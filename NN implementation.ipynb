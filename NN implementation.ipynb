{
 "cells": [
  {
   "cell_type": "code",
   "execution_count": 217,
   "metadata": {},
   "outputs": [],
   "source": [
    "import numpy as np\n",
    "import pandas as pd\n",
    "# Attribute Information:\n",
    "#    1. sepal length in cm\n",
    "#    2. sepal width in cm\n",
    "#    3. petal length in cm\n",
    "#    4. petal width in cm\n",
    "#    5. class: \n",
    "#       -- Iris Setosa\n",
    "#       -- Iris Versicolour\n",
    "#       -- Iris Virginica"
   ]
  },
  {
   "cell_type": "code",
   "execution_count": 218,
   "metadata": {},
   "outputs": [],
   "source": [
    "class Perceptron(object):\n",
    "    def __init__(self,eta=0.01,n_iter=50,random_state=1):\n",
    "        self.eta=eta\n",
    "        self.n_iter=n_iter\n",
    "        self.random_state=random_state\n",
    "    def fit(self,X,Y):\n",
    "        rgen=np.random.RandomState(self.random_state)   # creates the object of the RandomState Class of pseudo-random number generator.\n",
    "        self.w_=rgen.normal(loc=0.0,scale=0.01,size=1+X.shape[1]) # loc->mean of distribution, scale-> Std dev , \n",
    "        self.errors_=[]\n",
    "        for _ in range(self.n_iter):\n",
    "            errors=0\n",
    "            for xi,target in zip(X,Y):\n",
    "                update=self.eta*(target-self.predict(xi))\n",
    "                self.w_[1:]+=update*xi\n",
    "                self.w_[0]+=update\n",
    "                errors+=int(update!=0.0)  #checks how many times the output wasn't 0.0\n",
    "            self.errors_.append(errors)\n",
    "        return self\n",
    "    def net_input(self,X):\n",
    "        return np.dot(X,self.w_[1:])+self.w_[0]\n",
    "    def predict(self,X):\n",
    "        return np.where(self.net_input(X)>=0.0,1,-1)\n"
   ]
  },
  {
   "cell_type": "code",
   "execution_count": 219,
   "metadata": {},
   "outputs": [],
   "source": [
    "ds=pd.read_csv('iris-dataset.csv',names=['sep_l','sep_w','pet_l','sep_w','class'])\n",
    "# ds.head(51)"
   ]
  },
  {
   "cell_type": "code",
   "execution_count": 225,
   "metadata": {},
   "outputs": [
    {
     "name": "stdout",
     "output_type": "stream",
     "text": [
      "[-1 -1 -1 -1 -1 -1 -1 -1 -1 -1 -1 -1 -1 -1 -1 -1 -1 -1 -1 -1 -1 -1 -1 -1\n",
      " -1 -1 -1 -1 -1 -1 -1 -1 -1 -1 -1 -1 -1 -1 -1 -1 -1 -1 -1 -1 -1 -1 -1 -1\n",
      " -1 -1  1  1  1  1  1  1  1  1  1  1  1  1  1  1  1  1  1  1  1  1  1  1\n",
      "  1  1  1  1  1  1  1  1  1  1  1  1  1  1  1  1  1  1  1  1  1  1  1  1\n",
      "  1  1  1  1]\n",
      "[5.1 1.4] [ 0.01744812 -0.00761207  0.00319039]\n",
      "-0.016906886958686064\n",
      "-1\n",
      "[1.02 0.28]\n",
      "[0.01744812 1.01238793 0.28319039]\n",
      "0\n"
     ]
    }
   ],
   "source": [
    "#TEST---------------->>>>>>>>>>>\n",
    "\n",
    "y=ds.iloc[0:100,4].values  # .values converts dataframe to numpy_array\n",
    "# print(y)\n",
    "y = np.where(y == 'Iris-setosa', -1, 1)\n",
    "print(y)\n",
    "X = ds.iloc[0:100, [0, 2]].values\n",
    "# print(X[0])\n",
    "X.shape # give tuple of size of array\n",
    "X.shape[0] # gives the 1st element of the tuple\n",
    "\n",
    "w=a.normal(loc=0.0,scale=0.01,size=3)\n",
    "print(X[0],w[:])\n",
    "a1=np.dot(X[0],w[1:])+w[0]\n",
    "print(a1)\n",
    "a2=np.where(a1>=0,1,-1)\n",
    "print(a2)\n",
    "print(0.2*X[0])\n",
    "w[1:]+=0.2*X[0]\n",
    "print(w)\n",
    "print(int(0.64))"
   ]
  },
  {
   "cell_type": "code",
   "execution_count": 221,
   "metadata": {},
   "outputs": [],
   "source": [
    "%matplotlib inline\n",
    "import matplotlib.pyplot as plt\n",
    "import numpy as np\n",
    "\n",
    "# select setosa and versicolor\n",
    "y = ds.iloc[0:100, 4].values  # .values converts dataframe to numpy_array\n",
    "\n",
    "y = np.where(y == 'Iris-setosa', -1, 1)  # if y==setosa then -1 otherwise 1\n",
    "\n",
    "# extract sepal length and petal length\n",
    "X = ds.iloc[0:100, [0, 2]].values  # ds.iloc[0:100,[0,2]]=> 0:100 is rows from (0,99) and [0,2] is to select col 0 and 2\n",
    "\n",
    "# plot data\n",
    "# plt.scatter(X[:50, 0], X[:50, 1],\n",
    "#             color='red', marker='o', label='setosa')\n",
    "# plt.scatter(X[50:100, 0], X[50:100, 1],\n",
    "#             color='blue', marker='x', label='versicolor')\n",
    "\n",
    "# plt.xlabel('sepal length [cm]')\n",
    "# plt.ylabel('petal length [cm]')\n",
    "# plt.legend(loc='upper left')\n",
    "\n",
    "# plt.savefig('images/02_06.png', dpi=300)\n",
    "# plt.show()"
   ]
  },
  {
   "cell_type": "code",
   "execution_count": 226,
   "metadata": {},
   "outputs": [
    {
     "name": "stdout",
     "output_type": "stream",
     "text": [
      "10\n"
     ]
    },
    {
     "data": {
      "image/png": "[encoded data removed]",
      "text/plain": [
       "<Figure size 432x288 with 1 Axes>"
      ]
     },
     "metadata": {
      "needs_background": "light"
     },
     "output_type": "display_data"
    }
   ],
   "source": [
    "ppn = Perceptron(eta=0.1, n_iter=10)\n",
    "\n",
    "ppn.fit(X, y)\n",
    "print(len(ppn.errors_))\n",
    "plt.plot(range(1, len(ppn.errors_) + 1), ppn.errors_, marker='o')\n",
    "plt.xlabel('Epochs')\n",
    "plt.ylabel('Number of updates')\n",
    "\n",
    "# plt.savefig('images/02_07.png', dpi=300)\n",
    "plt.show()"
   ]
  },
  {
   "cell_type": "code",
   "execution_count": 223,
   "metadata": {},
   "outputs": [
    {
     "data": {
      "text/plain": [
       "array([ 0.01624345, -0.00611756, -0.00528172])"
      ]
     },
     "execution_count": 223,
     "metadata": {},
     "output_type": "execute_result"
    }
   ],
   "source": [
    "#TEST------------->>>>\n",
    "\n",
    "a=(np.random.RandomState(1))\n",
    "w=a.normal(loc=0.0,scale=0.01,size=3)\n",
    "w"
   ]
  },
  {
   "cell_type": "code",
   "execution_count": null,
   "metadata": {},
   "outputs": [],
   "source": []
  }
 ],
 "metadata": {
  "kernelspec": {
   "display_name": "Python 3",
   "language": "python",
   "name": "python3"
  },
  "language_info": {
   "codemirror_mode": {
    "name": "ipython",
    "version": 3
   },
   "file_extension": ".py",
   "mimetype": "text/x-python",
   "name": "python",
   "nbconvert_exporter": "python",
   "pygments_lexer": "ipython3",
   "version": "3.6.8"
  }
 },
 "nbformat": 4,
 "nbformat_minor": 2
}
